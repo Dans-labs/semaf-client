{
 "cells": [
  {
   "cell_type": "code",
   "execution_count": 1,
   "metadata": {},
   "outputs": [
    {
     "name": "stdout",
     "output_type": "stream",
     "text": [
      "https://dataverse.harvard.edu//api/datasets/export?exporter=OAI_ORE&persistentId=doi:10.7910/DVN/FUSIWA\n"
     ]
    },
    {
     "data": {
      "text/plain": [
       "{'dcterms:modified': '2021-09-09',\n",
       " 'dcterms:creator': 'Harvard Dataverse',\n",
       " '@type': 'ore:ResourceMap',\n",
       " '@id': 'https://dataverse.harvard.edu/api/datasets/export?exporter=OAI_ORE&persistentId=doi:10.7910/DVN/FUSIWA',\n",
       " 'ore:describes': {'citation:Depositor': 'Fortunato, David',\n",
       "  'Title': 'Replication Data for: Allocating Costly Influence in Legislatures',\n",
       "  'Deposit Date': '2021-06-21',\n",
       "  'Subject': 'Social Sciences',\n",
       "  'citation:Keyword': {'keyword:Term': 'legislatures, congress, state politics, comparative politics'},\n",
       "  'citation:Description': {'dsDescription:Text': 'Replication data and code for \"Allocating Costly Influence in Legislatures\"'},\n",
       "  'citation:Contact': {'datasetContact:Name': 'Fortunato, David',\n",
       "   'datasetContact:Affiliation': 'University of California, San Diego',\n",
       "   'datasetContact:E-mail': 'dfortunato@ucsd.edu'},\n",
       "  'Author': [{'author:Name': 'Fortunato, David',\n",
       "    'author:Affiliation': 'University of California, San Diego',\n",
       "    'Identifier Scheme': 'ORCID',\n",
       "    'Identifier': '0000-0003-2200-4080'},\n",
       "   {'author:Name': 'Provins, Tessa',\n",
       "    'author:Affiliation': 'University of Pittsburgh',\n",
       "    'Identifier Scheme': 'ORCID',\n",
       "    'Identifier': '0000-0001-9115-8732'},\n",
       "   {'author:Name': 'Monroe, Nathan W',\n",
       "    'author:Affiliation': 'University of California, Merced'}],\n",
       "  '@id': 'doi:10.7910/DVN/FUSIWA',\n",
       "  '@type': ['ore:Aggregation', 'schema:Dataset'],\n",
       "  'schema:version': '1.0',\n",
       "  'schema:name': 'Replication Data for: Allocating Costly Influence in Legislatures',\n",
       "  'schema:dateModified': '2021-09-09 16:15:05.867',\n",
       "  'schema:datePublished': '2021-09-09',\n",
       "  'schema:license': 'https://creativecommons.org/publicdomain/zero/1.0/',\n",
       "  'dvcore:fileTermsOfAccess': {'dvcore:fileRequestAccess': False},\n",
       "  'schema:includedInDataCatalog': 'Harvard Dataverse',\n",
       "  'ore:aggregates': [{'schema:description': 'All data needed to replicate analysis',\n",
       "    'schema:name': 'finalData.txt',\n",
       "    'dvcore:restricted': False,\n",
       "    'schema:version': 1,\n",
       "    'dvcore:datasetVersionId': 248525,\n",
       "    '@id': 'https://dataverse.harvard.edu/file.xhtml?fileId=4817228',\n",
       "    'schema:sameAs': 'https://dataverse.harvard.edu/api/access/datafile/4817228',\n",
       "    '@type': 'ore:AggregatedResource',\n",
       "    'schema:fileFormat': 'text/plain',\n",
       "    'dvcore:filesize': 314474,\n",
       "    'dvcore:storageIdentifier': 's3://dvn-cloud:17a30a1c504-93a91f0fd767',\n",
       "    'dvcore:rootDataFileId': -1,\n",
       "    'dvcore:checksum': {'@type': 'MD5',\n",
       "     '@value': '493284f7d7646963e7ff589fbdd6c585'}},\n",
       "   {'schema:name': 'replication.r',\n",
       "    'dvcore:restricted': False,\n",
       "    'schema:version': 1,\n",
       "    'dvcore:datasetVersionId': 248525,\n",
       "    '@id': 'https://dataverse.harvard.edu/file.xhtml?fileId=5120476',\n",
       "    'schema:sameAs': 'https://dataverse.harvard.edu/api/access/datafile/5120476',\n",
       "    '@type': 'ore:AggregatedResource',\n",
       "    'schema:fileFormat': 'type/x-r-syntax',\n",
       "    'dvcore:filesize': 16708,\n",
       "    'dvcore:storageIdentifier': 's3://dvn-cloud:17bcc32da94-36170fb947ea',\n",
       "    'dvcore:rootDataFileId': -1,\n",
       "    'dvcore:checksum': {'@type': 'MD5',\n",
       "     '@value': '39d1577703862e3fa871f000f0bcfb8c'}}],\n",
       "  'schema:hasPart': ['https://dataverse.harvard.edu/file.xhtml?fileId=4817228',\n",
       "   'https://dataverse.harvard.edu/file.xhtml?fileId=5120476']},\n",
       " '@context': {'Author': 'http://purl.org/dc/terms/creator',\n",
       "  'Deposit Date': 'http://purl.org/dc/terms/dateSubmitted',\n",
       "  'Identifier': 'http://purl.org/spar/datacite/AgentIdentifier',\n",
       "  'Identifier Scheme': 'http://purl.org/spar/datacite/AgentIdentifierScheme',\n",
       "  'Subject': 'http://purl.org/dc/terms/subject',\n",
       "  'Title': 'http://purl.org/dc/terms/title',\n",
       "  'author': 'https://dataverse.org/schema/citation/author#',\n",
       "  'citation': 'https://dataverse.org/schema/citation/',\n",
       "  'datasetContact': 'https://dataverse.org/schema/citation/datasetContact#',\n",
       "  'dcterms': 'http://purl.org/dc/terms/',\n",
       "  'dsDescription': 'https://dataverse.org/schema/citation/dsDescription#',\n",
       "  'dvcore': 'https://dataverse.org/schema/core#',\n",
       "  'keyword': 'https://dataverse.org/schema/citation/keyword#',\n",
       "  'ore': 'http://www.openarchives.org/ore/terms/',\n",
       "  'schema': 'http://schema.org/'}}"
      ]
     },
     "execution_count": 1,
     "metadata": {},
     "output_type": "execute_result"
    }
   ],
   "source": [
    "#!/usr/bin/python3\n",
    "\n",
    "from Semaf import Semaf\n",
    "from config import DATAVERSE_ROOT, DATAVERSE_EXPORT\n",
    "\n",
    "sm = Semaf()\n",
    "doi = 'doi:10.7910/DVN/FUSIWA'\n",
    "sm.loadurl(doi, 'json-ld', DATAVERSE_ROOT, DATAVERSE_EXPORT)"
   ]
  },
  {
   "cell_type": "markdown",
   "metadata": {},
   "source": [
    "Show all statements from Graph with metadata"
   ]
  },
  {
   "cell_type": "code",
   "execution_count": 2,
   "metadata": {},
   "outputs": [
    {
     "data": {
      "text/plain": [
       "[[rdflib.term.URIRef('https://dataverse.harvard.edu/file.xhtml?fileId=4817228'),\n",
       "  rdflib.term.URIRef('https://dataverse.org/schema/core#storageIdentifier'),\n",
       "  rdflib.term.Literal('s3://dvn-cloud:17a30a1c504-93a91f0fd767')],\n",
       " [rdflib.term.URIRef('doi:10.7910/DVN/FUSIWA'),\n",
       "  rdflib.term.URIRef('http://schema.org/datePublished'),\n",
       "  rdflib.term.Literal('2021-09-09')],\n",
       " [rdflib.term.URIRef('https://dataverse.harvard.edu/file.xhtml?fileId=4817228'),\n",
       "  rdflib.term.URIRef('https://dataverse.org/schema/core#restricted'),\n",
       "  rdflib.term.Literal('false', datatype=rdflib.term.URIRef('http://www.w3.org/2001/XMLSchema#boolean'))],\n",
       " [rdflib.term.URIRef('https://dataverse.harvard.edu/file.xhtml?fileId=5120476'),\n",
       "  rdflib.term.URIRef('https://dataverse.org/schema/core#datasetVersionId'),\n",
       "  rdflib.term.Literal('248525', datatype=rdflib.term.URIRef('http://www.w3.org/2001/XMLSchema#integer'))],\n",
       " [rdflib.term.URIRef('https://dataverse.harvard.edu/file.xhtml?fileId=4817228'),\n",
       "  rdflib.term.URIRef('https://dataverse.org/schema/core#filesize'),\n",
       "  rdflib.term.Literal('314474', datatype=rdflib.term.URIRef('http://www.w3.org/2001/XMLSchema#integer'))],\n",
       " [rdflib.term.URIRef('https://dataverse.harvard.edu/file.xhtml?fileId=5120476'),\n",
       "  rdflib.term.URIRef('https://dataverse.org/schema/core#checksum'),\n",
       "  rdflib.term.Literal('39d1577703862e3fa871f000f0bcfb8c')],\n",
       " [rdflib.term.URIRef('https://dataverse.harvard.edu/file.xhtml?fileId=5120476'),\n",
       "  rdflib.term.URIRef('https://dataverse.org/schema/core#restricted'),\n",
       "  rdflib.term.Literal('false', datatype=rdflib.term.URIRef('http://www.w3.org/2001/XMLSchema#boolean'))],\n",
       " [rdflib.term.URIRef('https://dataverse.harvard.edu/file.xhtml?fileId=4817228'),\n",
       "  rdflib.term.URIRef('http://schema.org/name'),\n",
       "  rdflib.term.Literal('finalData.txt')],\n",
       " [rdflib.term.URIRef('doi:10.7910/DVN/FUSIWA'),\n",
       "  rdflib.term.URIRef('https://dataverse.org/schema/core#fileTermsOfAccess'),\n",
       "  rdflib.term.BNode('Nbe4ebb2fd9bd4c57b9647723eff22346')],\n",
       " [rdflib.term.BNode('Nbe4ebb2fd9bd4c57b9647723eff22346'),\n",
       "  rdflib.term.URIRef('https://dataverse.org/schema/core#fileRequestAccess'),\n",
       "  rdflib.term.Literal('false', datatype=rdflib.term.URIRef('http://www.w3.org/2001/XMLSchema#boolean'))],\n",
       " [rdflib.term.URIRef('doi:10.7910/DVN/FUSIWA'),\n",
       "  rdflib.term.URIRef('http://purl.org/dc/terms/dateSubmitted'),\n",
       "  rdflib.term.Literal('2021-06-21')],\n",
       " [rdflib.term.URIRef('doi:10.7910/DVN/FUSIWA'),\n",
       "  rdflib.term.URIRef('http://purl.org/dc/terms/creator'),\n",
       "  rdflib.term.BNode('N16f01828bc39441bab0971277181f5e1')],\n",
       " [rdflib.term.URIRef('https://dataverse.harvard.edu/file.xhtml?fileId=4817228'),\n",
       "  rdflib.term.URIRef('http://schema.org/version'),\n",
       "  rdflib.term.Literal('1', datatype=rdflib.term.URIRef('http://www.w3.org/2001/XMLSchema#integer'))],\n",
       " [rdflib.term.URIRef('https://dataverse.harvard.edu/file.xhtml?fileId=4817228'),\n",
       "  rdflib.term.URIRef('http://www.w3.org/1999/02/22-rdf-syntax-ns#type'),\n",
       "  rdflib.term.URIRef('http://www.openarchives.org/ore/terms/AggregatedResource')],\n",
       " [rdflib.term.URIRef('https://dataverse.harvard.edu/api/datasets/export?exporter=OAI_ORE&persistentId=doi:10.7910/DVN/FUSIWA'),\n",
       "  rdflib.term.URIRef('http://www.w3.org/1999/02/22-rdf-syntax-ns#type'),\n",
       "  rdflib.term.URIRef('http://www.openarchives.org/ore/terms/ResourceMap')],\n",
       " [rdflib.term.URIRef('https://dataverse.harvard.edu/file.xhtml?fileId=4817228'),\n",
       "  rdflib.term.URIRef('https://dataverse.org/schema/core#checksum'),\n",
       "  rdflib.term.Literal('493284f7d7646963e7ff589fbdd6c585')],\n",
       " [rdflib.term.URIRef('doi:10.7910/DVN/FUSIWA'),\n",
       "  rdflib.term.URIRef('http://www.w3.org/1999/02/22-rdf-syntax-ns#type'),\n",
       "  rdflib.term.URIRef('http://schema.org/Dataset')],\n",
       " [rdflib.term.URIRef('https://dataverse.harvard.edu/api/datasets/export?exporter=OAI_ORE&persistentId=doi:10.7910/DVN/FUSIWA'),\n",
       "  rdflib.term.URIRef('http://purl.org/dc/terms/creator'),\n",
       "  rdflib.term.Literal('Harvard Dataverse')],\n",
       " [rdflib.term.BNode('N0108b1f7a6b74082a998e6c0fc7f8f16'),\n",
       "  rdflib.term.URIRef('https://dataverse.org/schema/citation/keyword#Term'),\n",
       "  rdflib.term.Literal('legislatures, congress, state politics, comparative politics')],\n",
       " [rdflib.term.BNode('N48a67dd68e1946d8b2c84fcba38408d6'),\n",
       "  rdflib.term.URIRef('https://dataverse.org/schema/citation/author#Affiliation'),\n",
       "  rdflib.term.Literal('University of California, Merced')],\n",
       " [rdflib.term.URIRef('doi:10.7910/DVN/FUSIWA'),\n",
       "  rdflib.term.URIRef('http://schema.org/hasPart'),\n",
       "  rdflib.term.Literal('https://dataverse.harvard.edu/file.xhtml?fileId=4817228')],\n",
       " [rdflib.term.URIRef('doi:10.7910/DVN/FUSIWA'),\n",
       "  rdflib.term.URIRef('https://dataverse.org/schema/citation/Description'),\n",
       "  rdflib.term.BNode('N687fe4cf97ea4fd5a064be83c40b0933')],\n",
       " [rdflib.term.URIRef('doi:10.7910/DVN/FUSIWA'),\n",
       "  rdflib.term.URIRef('http://www.openarchives.org/ore/terms/aggregates'),\n",
       "  rdflib.term.URIRef('https://dataverse.harvard.edu/file.xhtml?fileId=4817228')],\n",
       " [rdflib.term.URIRef('https://dataverse.harvard.edu/file.xhtml?fileId=4817228'),\n",
       "  rdflib.term.URIRef('https://dataverse.org/schema/core#datasetVersionId'),\n",
       "  rdflib.term.Literal('248525', datatype=rdflib.term.URIRef('http://www.w3.org/2001/XMLSchema#integer'))],\n",
       " [rdflib.term.BNode('N55eba3e02a6541649ee94de1d54441bc'),\n",
       "  rdflib.term.URIRef('http://purl.org/spar/datacite/AgentIdentifierScheme'),\n",
       "  rdflib.term.Literal('ORCID')],\n",
       " [rdflib.term.BNode('N55eba3e02a6541649ee94de1d54441bc'),\n",
       "  rdflib.term.URIRef('https://dataverse.org/schema/citation/author#Name'),\n",
       "  rdflib.term.Literal('Fortunato, David')],\n",
       " [rdflib.term.BNode('N16f01828bc39441bab0971277181f5e1'),\n",
       "  rdflib.term.URIRef('http://purl.org/spar/datacite/AgentIdentifier'),\n",
       "  rdflib.term.Literal('0000-0001-9115-8732')],\n",
       " [rdflib.term.URIRef('https://dataverse.harvard.edu/file.xhtml?fileId=4817228'),\n",
       "  rdflib.term.URIRef('http://schema.org/description'),\n",
       "  rdflib.term.Literal('All data needed to replicate analysis')],\n",
       " [rdflib.term.BNode('N55eba3e02a6541649ee94de1d54441bc'),\n",
       "  rdflib.term.URIRef('http://purl.org/spar/datacite/AgentIdentifier'),\n",
       "  rdflib.term.Literal('0000-0003-2200-4080')],\n",
       " [rdflib.term.URIRef('https://dataverse.harvard.edu/file.xhtml?fileId=5120476'),\n",
       "  rdflib.term.URIRef('https://dataverse.org/schema/core#rootDataFileId'),\n",
       "  rdflib.term.Literal('-1', datatype=rdflib.term.URIRef('http://www.w3.org/2001/XMLSchema#integer'))],\n",
       " [rdflib.term.URIRef('https://dataverse.harvard.edu/file.xhtml?fileId=5120476'),\n",
       "  rdflib.term.URIRef('http://schema.org/fileFormat'),\n",
       "  rdflib.term.Literal('type/x-r-syntax')],\n",
       " [rdflib.term.URIRef('https://dataverse.harvard.edu/file.xhtml?fileId=4817228'),\n",
       "  rdflib.term.URIRef('http://schema.org/sameAs'),\n",
       "  rdflib.term.Literal('https://dataverse.harvard.edu/api/access/datafile/4817228')],\n",
       " [rdflib.term.BNode('N16f01828bc39441bab0971277181f5e1'),\n",
       "  rdflib.term.URIRef('https://dataverse.org/schema/citation/author#Name'),\n",
       "  rdflib.term.Literal('Provins, Tessa')],\n",
       " [rdflib.term.URIRef('https://dataverse.harvard.edu/file.xhtml?fileId=5120476'),\n",
       "  rdflib.term.URIRef('http://schema.org/name'),\n",
       "  rdflib.term.Literal('replication.r')],\n",
       " [rdflib.term.URIRef('doi:10.7910/DVN/FUSIWA'),\n",
       "  rdflib.term.URIRef('https://dataverse.org/schema/citation/Depositor'),\n",
       "  rdflib.term.Literal('Fortunato, David')],\n",
       " [rdflib.term.BNode('N16f01828bc39441bab0971277181f5e1'),\n",
       "  rdflib.term.URIRef('http://purl.org/spar/datacite/AgentIdentifierScheme'),\n",
       "  rdflib.term.Literal('ORCID')],\n",
       " [rdflib.term.URIRef('https://dataverse.harvard.edu/file.xhtml?fileId=5120476'),\n",
       "  rdflib.term.URIRef('https://dataverse.org/schema/core#filesize'),\n",
       "  rdflib.term.Literal('16708', datatype=rdflib.term.URIRef('http://www.w3.org/2001/XMLSchema#integer'))],\n",
       " [rdflib.term.BNode('N5c2ddc6e5fea4f97bd698b2499cd4a5d'),\n",
       "  rdflib.term.URIRef('https://dataverse.org/schema/citation/datasetContact#Name'),\n",
       "  rdflib.term.Literal('Fortunato, David')],\n",
       " [rdflib.term.BNode('N5c2ddc6e5fea4f97bd698b2499cd4a5d'),\n",
       "  rdflib.term.URIRef('https://dataverse.org/schema/citation/datasetContact#E-mail'),\n",
       "  rdflib.term.Literal('dfortunato@ucsd.edu')],\n",
       " [rdflib.term.URIRef('doi:10.7910/DVN/FUSIWA'),\n",
       "  rdflib.term.URIRef('http://schema.org/hasPart'),\n",
       "  rdflib.term.Literal('https://dataverse.harvard.edu/file.xhtml?fileId=5120476')],\n",
       " [rdflib.term.URIRef('doi:10.7910/DVN/FUSIWA'),\n",
       "  rdflib.term.URIRef('http://schema.org/license'),\n",
       "  rdflib.term.Literal('https://creativecommons.org/publicdomain/zero/1.0/')],\n",
       " [rdflib.term.URIRef('doi:10.7910/DVN/FUSIWA'),\n",
       "  rdflib.term.URIRef('http://www.openarchives.org/ore/terms/aggregates'),\n",
       "  rdflib.term.URIRef('https://dataverse.harvard.edu/file.xhtml?fileId=5120476')],\n",
       " [rdflib.term.URIRef('doi:10.7910/DVN/FUSIWA'),\n",
       "  rdflib.term.URIRef('https://dataverse.org/schema/citation/Keyword'),\n",
       "  rdflib.term.BNode('N0108b1f7a6b74082a998e6c0fc7f8f16')],\n",
       " [rdflib.term.URIRef('doi:10.7910/DVN/FUSIWA'),\n",
       "  rdflib.term.URIRef('http://schema.org/name'),\n",
       "  rdflib.term.Literal('Replication Data for: Allocating Costly Influence in Legislatures')],\n",
       " [rdflib.term.URIRef('doi:10.7910/DVN/FUSIWA'),\n",
       "  rdflib.term.URIRef('http://purl.org/dc/terms/creator'),\n",
       "  rdflib.term.BNode('N48a67dd68e1946d8b2c84fcba38408d6')],\n",
       " [rdflib.term.URIRef('doi:10.7910/DVN/FUSIWA'),\n",
       "  rdflib.term.URIRef('http://purl.org/dc/terms/title'),\n",
       "  rdflib.term.Literal('Replication Data for: Allocating Costly Influence in Legislatures')],\n",
       " [rdflib.term.URIRef('https://dataverse.harvard.edu/file.xhtml?fileId=5120476'),\n",
       "  rdflib.term.URIRef('http://schema.org/version'),\n",
       "  rdflib.term.Literal('1', datatype=rdflib.term.URIRef('http://www.w3.org/2001/XMLSchema#integer'))],\n",
       " [rdflib.term.BNode('N48a67dd68e1946d8b2c84fcba38408d6'),\n",
       "  rdflib.term.URIRef('https://dataverse.org/schema/citation/author#Name'),\n",
       "  rdflib.term.Literal('Monroe, Nathan W')],\n",
       " [rdflib.term.URIRef('doi:10.7910/DVN/FUSIWA'),\n",
       "  rdflib.term.URIRef('http://www.w3.org/1999/02/22-rdf-syntax-ns#type'),\n",
       "  rdflib.term.URIRef('http://www.openarchives.org/ore/terms/Aggregation')],\n",
       " [rdflib.term.URIRef('doi:10.7910/DVN/FUSIWA'),\n",
       "  rdflib.term.URIRef('http://schema.org/dateModified'),\n",
       "  rdflib.term.Literal('2021-09-09 16:15:05.867')],\n",
       " [rdflib.term.URIRef('https://dataverse.harvard.edu/file.xhtml?fileId=5120476'),\n",
       "  rdflib.term.URIRef('https://dataverse.org/schema/core#storageIdentifier'),\n",
       "  rdflib.term.Literal('s3://dvn-cloud:17bcc32da94-36170fb947ea')],\n",
       " [rdflib.term.URIRef('https://dataverse.harvard.edu/file.xhtml?fileId=5120476'),\n",
       "  rdflib.term.URIRef('http://schema.org/sameAs'),\n",
       "  rdflib.term.Literal('https://dataverse.harvard.edu/api/access/datafile/5120476')],\n",
       " [rdflib.term.URIRef('https://dataverse.harvard.edu/file.xhtml?fileId=4817228'),\n",
       "  rdflib.term.URIRef('https://dataverse.org/schema/core#rootDataFileId'),\n",
       "  rdflib.term.Literal('-1', datatype=rdflib.term.URIRef('http://www.w3.org/2001/XMLSchema#integer'))],\n",
       " [rdflib.term.URIRef('https://dataverse.harvard.edu/api/datasets/export?exporter=OAI_ORE&persistentId=doi:10.7910/DVN/FUSIWA'),\n",
       "  rdflib.term.URIRef('http://purl.org/dc/terms/modified'),\n",
       "  rdflib.term.Literal('2021-09-09')],\n",
       " [rdflib.term.URIRef('https://dataverse.harvard.edu/api/datasets/export?exporter=OAI_ORE&persistentId=doi:10.7910/DVN/FUSIWA'),\n",
       "  rdflib.term.URIRef('http://www.openarchives.org/ore/terms/describes'),\n",
       "  rdflib.term.URIRef('doi:10.7910/DVN/FUSIWA')],\n",
       " [rdflib.term.URIRef('doi:10.7910/DVN/FUSIWA'),\n",
       "  rdflib.term.URIRef('http://purl.org/dc/terms/creator'),\n",
       "  rdflib.term.BNode('N55eba3e02a6541649ee94de1d54441bc')],\n",
       " [rdflib.term.URIRef('doi:10.7910/DVN/FUSIWA'),\n",
       "  rdflib.term.URIRef('http://schema.org/includedInDataCatalog'),\n",
       "  rdflib.term.Literal('Harvard Dataverse')],\n",
       " [rdflib.term.URIRef('https://dataverse.harvard.edu/file.xhtml?fileId=5120476'),\n",
       "  rdflib.term.URIRef('http://www.w3.org/1999/02/22-rdf-syntax-ns#type'),\n",
       "  rdflib.term.URIRef('http://www.openarchives.org/ore/terms/AggregatedResource')],\n",
       " [rdflib.term.URIRef('doi:10.7910/DVN/FUSIWA'),\n",
       "  rdflib.term.URIRef('https://dataverse.org/schema/citation/Contact'),\n",
       "  rdflib.term.BNode('N5c2ddc6e5fea4f97bd698b2499cd4a5d')],\n",
       " [rdflib.term.URIRef('https://dataverse.harvard.edu/file.xhtml?fileId=4817228'),\n",
       "  rdflib.term.URIRef('http://schema.org/fileFormat'),\n",
       "  rdflib.term.Literal('text/plain')],\n",
       " [rdflib.term.BNode('N687fe4cf97ea4fd5a064be83c40b0933'),\n",
       "  rdflib.term.URIRef('https://dataverse.org/schema/citation/dsDescription#Text'),\n",
       "  rdflib.term.Literal('Replication data and code for \"Allocating Costly Influence in Legislatures\"')],\n",
       " [rdflib.term.BNode('N55eba3e02a6541649ee94de1d54441bc'),\n",
       "  rdflib.term.URIRef('https://dataverse.org/schema/citation/author#Affiliation'),\n",
       "  rdflib.term.Literal('University of California, San Diego')],\n",
       " [rdflib.term.URIRef('doi:10.7910/DVN/FUSIWA'),\n",
       "  rdflib.term.URIRef('http://schema.org/version'),\n",
       "  rdflib.term.Literal('1.0')],\n",
       " [rdflib.term.URIRef('doi:10.7910/DVN/FUSIWA'),\n",
       "  rdflib.term.URIRef('http://purl.org/dc/terms/subject'),\n",
       "  rdflib.term.Literal('Social Sciences')],\n",
       " [rdflib.term.BNode('N5c2ddc6e5fea4f97bd698b2499cd4a5d'),\n",
       "  rdflib.term.URIRef('https://dataverse.org/schema/citation/datasetContact#Affiliation'),\n",
       "  rdflib.term.Literal('University of California, San Diego')],\n",
       " [rdflib.term.BNode('N16f01828bc39441bab0971277181f5e1'),\n",
       "  rdflib.term.URIRef('https://dataverse.org/schema/citation/author#Affiliation'),\n",
       "  rdflib.term.Literal('University of Pittsburgh')]]"
      ]
     },
     "execution_count": 2,
     "metadata": {},
     "output_type": "execute_result"
    }
   ],
   "source": [
    "sm.statements()"
   ]
  },
  {
   "cell_type": "markdown",
   "metadata": {},
   "source": [
    "Example how to edit statement in the specific metadata field like Keyword Term"
   ]
  },
  {
   "cell_type": "markdown",
   "metadata": {},
   "source": [
    "sm.edit_statement('keyword#Term', 'New Statement')"
   ]
  },
  {
   "cell_type": "markdown",
   "metadata": {},
   "source": [
    "Locate root nodes for the selected metadata fields, for example Keyword or title"
   ]
  },
  {
   "cell_type": "code",
   "execution_count": 3,
   "metadata": {},
   "outputs": [
    {
     "name": "stdout",
     "output_type": "stream",
     "text": [
      "{'subject': rdflib.term.BNode('N0108b1f7a6b74082a998e6c0fc7f8f16'), 'predicate': rdflib.term.URIRef('https://dataverse.org/schema/citation/keyword#Term'), 'object': rdflib.term.Literal('legislatures, congress, state politics, comparative politics')}\n",
      "{'subject': rdflib.term.URIRef('doi:10.7910/DVN/FUSIWA'), 'predicate': rdflib.term.URIRef('http://purl.org/dc/terms/title'), 'object': rdflib.term.Literal('Replication Data for: Allocating Costly Influence in Legislatures')}\n"
     ]
    }
   ],
   "source": [
    "print(sm.locator('keyword#Term'))\n",
    "print(sm.locator('terms/title'))"
   ]
  },
  {
   "cell_type": "markdown",
   "metadata": {},
   "source": [
    "Metadata enrichment with new Keyword and Keyword URL "
   ]
  },
  {
   "cell_type": "code",
   "execution_count": 4,
   "metadata": {},
   "outputs": [
    {
     "ename": "NameError",
     "evalue": "name 'rootnode' is not defined",
     "output_type": "error",
     "traceback": [
      "\u001b[0;31m---------------------------------------------------------------------------\u001b[0m",
      "\u001b[0;31mNameError\u001b[0m                                 Traceback (most recent call last)",
      "\u001b[0;32m<ipython-input-4-1b7b8536b64c>\u001b[0m in \u001b[0;36m<module>\u001b[0;34m\u001b[0m\n\u001b[1;32m      1\u001b[0m \u001b[0mnewstatement\u001b[0m \u001b[0;34m=\u001b[0m \u001b[0;34m{\u001b[0m \u001b[0;34m'rootnode'\u001b[0m\u001b[0;34m:\u001b[0m \u001b[0;34m'citation/Keyword'\u001b[0m\u001b[0;34m,\u001b[0m \u001b[0;34m'keyword#Term'\u001b[0m\u001b[0;34m:\u001b[0m \u001b[0;34m'New Term from this notebook'\u001b[0m\u001b[0;34m,\u001b[0m \u001b[0;34m'keyword#Vocabulary'\u001b[0m\u001b[0;34m:\u001b[0m \u001b[0;34m'https://www.wikidata.org/wiki/TMP2462063'\u001b[0m\u001b[0;34m}\u001b[0m\u001b[0;34m\u001b[0m\u001b[0m\n\u001b[1;32m      2\u001b[0m \u001b[0msm\u001b[0m\u001b[0;34m.\u001b[0m\u001b[0mlocator\u001b[0m\u001b[0;34m(\u001b[0m\u001b[0mnewstatement\u001b[0m\u001b[0;34m[\u001b[0m\u001b[0;34m'rootnode'\u001b[0m\u001b[0;34m]\u001b[0m\u001b[0;34m)\u001b[0m\u001b[0;34m\u001b[0m\u001b[0m\n\u001b[0;32m----> 3\u001b[0;31m \u001b[0msm\u001b[0m\u001b[0;34m.\u001b[0m\u001b[0madd_statement\u001b[0m\u001b[0;34m(\u001b[0m\u001b[0mrootnode\u001b[0m\u001b[0;34m,\u001b[0m \u001b[0mnewstatement\u001b[0m\u001b[0;34m)\u001b[0m\u001b[0;34m\u001b[0m\u001b[0m\n\u001b[0m",
      "\u001b[0;31mNameError\u001b[0m: name 'rootnode' is not defined"
     ]
    }
   ],
   "source": [
    "newstatement = { 'rootnode': 'citation/Keyword', 'keyword#Term': 'New Term from this notebook', 'keyword#Vocabulary': 'https://www.wikidata.org/wiki/TMP2462063'}\n",
    "sm.locator(newstatement['rootnode'])\n",
    "sm.add_statement(rootnode, newstatement)"
   ]
  },
  {
   "cell_type": "code",
   "execution_count": null,
   "metadata": {},
   "outputs": [],
   "source": [
    "print(sm.dumps())"
   ]
  },
  {
   "cell_type": "markdown",
   "metadata": {},
   "source": [
    "Serialize this Graph in n3 format with triples suitable for the ingest in triple store"
   ]
  },
  {
   "cell_type": "code",
   "execution_count": null,
   "metadata": {},
   "outputs": [],
   "source": [
    "print(sm.graph_to_turtle())"
   ]
  },
  {
   "cell_type": "code",
   "execution_count": null,
   "metadata": {},
   "outputs": [],
   "source": []
  }
 ],
 "metadata": {
  "kernelspec": {
   "display_name": "Python 3",
   "language": "python",
   "name": "python3"
  },
  "language_info": {
   "codemirror_mode": {
    "name": "ipython",
    "version": 3
   },
   "file_extension": ".py",
   "mimetype": "text/x-python",
   "name": "python",
   "nbconvert_exporter": "python",
   "pygments_lexer": "ipython3",
   "version": "3.7.0"
  }
 },
 "nbformat": 4,
 "nbformat_minor": 4
}
